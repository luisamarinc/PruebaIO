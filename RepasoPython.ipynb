{
  "nbformat": 4,
  "nbformat_minor": 0,
  "metadata": {
    "colab": {
      "provenance": [],
      "toc_visible": true,
      "authorship_tag": "ABX9TyOjLX6//Py55HP+iy4sstC/",
      "include_colab_link": true
    },
    "kernelspec": {
      "name": "python3",
      "display_name": "Python 3"
    },
    "language_info": {
      "name": "python"
    }
  },
  "cells": [
    {
      "cell_type": "markdown",
      "metadata": {
        "id": "view-in-github",
        "colab_type": "text"
      },
      "source": [
        "<a href=\"https://colab.research.google.com/github/luisamarinc/PruebaIO/blob/main/RepasoPython.ipynb\" target=\"_parent\"><img src=\"https://colab.research.google.com/assets/colab-badge.svg\" alt=\"Open In Colab\"/></a>"
      ]
    },
    {
      "cell_type": "markdown",
      "source": [
        "Hipotenusa"
      ],
      "metadata": {
        "id": "5IauP7w7LVvq"
      }
    },
    {
      "cell_type": "code",
      "source": [
        "number1= int(input())\n",
        "number2= int(input())\n",
        "\n",
        "hipo=((number1**2)+(number2**2))**0.5\n",
        "\n",
        "print(round(hipo, 1))"
      ],
      "metadata": {
        "colab": {
          "base_uri": "https://localhost:8080/"
        },
        "id": "tzGO84yv4YU8",
        "outputId": "8a6c040e-35d4-4faf-dd7d-27feaa4a8d63"
      },
      "execution_count": null,
      "outputs": [
        {
          "output_type": "stream",
          "name": "stdout",
          "text": [
            "3\n",
            "2\n",
            "3.6\n"
          ]
        }
      ]
    },
    {
      "cell_type": "markdown",
      "source": [
        "Area cilindro"
      ],
      "metadata": {
        "id": "k5RfDNsoLgCS"
      }
    },
    {
      "cell_type": "code",
      "source": [
        "altura=int(input())\n",
        "radio=int(input())\n",
        "pi=3.14\n",
        "\n",
        "area=2*pi*radio*(radio+altura)\n",
        "\n",
        "print(round(area,2))"
      ],
      "metadata": {
        "id": "TO-6KteRLf0C",
        "colab": {
          "base_uri": "https://localhost:8080/"
        },
        "outputId": "ba0a1df5-101d-478b-dd6e-85fc780dccb6"
      },
      "execution_count": 19,
      "outputs": [
        {
          "output_type": "stream",
          "name": "stdout",
          "text": [
            "2\n",
            "5\n",
            "219.8\n"
          ]
        }
      ]
    }
  ]
}