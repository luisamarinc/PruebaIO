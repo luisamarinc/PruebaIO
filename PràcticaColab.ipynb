{
  "nbformat": 4,
  "nbformat_minor": 0,
  "metadata": {
    "colab": {
      "provenance": [],
      "toc_visible": true,
      "authorship_tag": "ABX9TyNDZunDF8w/mGbXS5PmrcZb",
      "include_colab_link": true
    },
    "kernelspec": {
      "name": "python3",
      "display_name": "Python 3"
    },
    "language_info": {
      "name": "python"
    }
  },
  "cells": [
    {
      "cell_type": "markdown",
      "metadata": {
        "id": "view-in-github",
        "colab_type": "text"
      },
      "source": [
        "<a href=\"https://colab.research.google.com/github/luisamarinc/PruebaIO/blob/main/Pr%C3%A0cticaColab.ipynb\" target=\"_parent\"><img src=\"https://colab.research.google.com/assets/colab-badge.svg\" alt=\"Open In Colab\"/></a>"
      ]
    },
    {
      "cell_type": "markdown",
      "source": [
        "#primer ejercicio\n",
        "## esto es un subtitulo\n",
        "esto es un texto normal"
      ],
      "metadata": {
        "id": "tCFfus_T3s69"
      }
    },
    {
      "cell_type": "code",
      "source": [
        "print (\"bebe\")"
      ],
      "metadata": {
        "colab": {
          "base_uri": "https://localhost:8080/"
        },
        "id": "tKf3zWAh4RtM",
        "outputId": "f233937c-8514-4087-8fd8-3c5cf6952861"
      },
      "execution_count": 7,
      "outputs": [
        {
          "output_type": "stream",
          "name": "stdout",
          "text": [
            "bebe\n"
          ]
        }
      ]
    },
    {
      "cell_type": "markdown",
      "source": [
        "#Segundo ejericico"
      ],
      "metadata": {
        "id": "NNpw6l2S4GGW"
      }
    },
    {
      "cell_type": "code",
      "source": [
        "print(\"bebe. Luisa\")"
      ],
      "metadata": {
        "colab": {
          "base_uri": "https://localhost:8080/"
        },
        "id": "tzGO84yv4YU8",
        "outputId": "ef3bdd62-fff7-4a9a-ec62-d6a4343ec8a4"
      },
      "execution_count": 8,
      "outputs": [
        {
          "output_type": "stream",
          "name": "stdout",
          "text": [
            "bebe. Luisa\n"
          ]
        }
      ]
    }
  ]
}